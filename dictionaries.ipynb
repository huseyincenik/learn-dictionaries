{
 "cells": [
  {
   "cell_type": "markdown",
   "metadata": {},
   "source": [
    "DICTIONARIES"
   ]
  },
  {
   "attachments": {},
   "cell_type": "markdown",
   "metadata": {},
   "source": [
    " Definitions"
   ]
  },
  {
   "attachments": {},
   "cell_type": "markdown",
   "metadata": {},
   "source": [
    "* In this topic, we will examine the collection types which store item pairs. What does it mean?\n",
    "\n",
    "* Think of a real dictionary. It contains words and their meanings. In Python, you can accept the words as key and the meaning of the words as value.\n",
    "* A dictionary in Python is a collection of key-value pairs called items of a dictionary. The dictionary is enclosed by curly braces 👉🏻{}. Each pair (item) is separated by a comma and the key and value are separated by a colon."
   ]
  },
  {
   "attachments": {},
   "cell_type": "markdown",
   "metadata": {},
   "source": [
    "Creating a Dictionary"
   ]
  },
  {
   "attachments": {},
   "cell_type": "markdown",
   "metadata": {},
   "source": [
    "* A dictionary also can be created by enclosing pairs, separated by commas, in curly-braces.\n",
    "\n",
    "* We can use a function to create a dictionary : 'dict()' function. Let's create a simple empty dict :"
   ]
  },
  {
   "cell_type": "code",
   "execution_count": 3,
   "metadata": {},
   "outputs": [
    {
     "name": "stdout",
     "output_type": "stream",
     "text": [
      "<class 'dict'> <class 'dict'>\n"
     ]
    }
   ],
   "source": [
    "empty_dict_1 = {}\n",
    "empty_dict_2 = dict()\n",
    "print(type(empty_dict_1),type(empty_dict_2))"
   ]
  },
  {
   "cell_type": "code",
   "execution_count": 4,
   "metadata": {},
   "outputs": [],
   "source": [
    "#The basic form of dict looks like :\n",
    "my_dict = {'key1': 'value1',\n",
    "           'key2' : 'value2',\n",
    "           'key3' : 'value3'}"
   ]
  },
  {
   "attachments": {},
   "cell_type": "markdown",
   "metadata": {},
   "source": [
    "* The syntax for accessing an item is very simple. We write a key that we want to access in square brackets. This method works both for adding items to a dict and for reading them from there."
   ]
  },
  {
   "attachments": {},
   "cell_type": "markdown",
   "metadata": {},
   "source": [
    "* In the following examples, there are several methods that allow us to create a dict and add a key-value pair to it."
   ]
  },
  {
   "cell_type": "code",
   "execution_count": 5,
   "metadata": {},
   "outputs": [
    {
     "name": "stdout",
     "output_type": "stream",
     "text": [
      "Atlanta\n"
     ]
    }
   ],
   "source": [
    "state_capitals = {'Arkansas':'Little Rock',\n",
    "                  'Colorado': 'Denver',\n",
    "                  'California': 'Sacramento',\n",
    "                  'Georgia': 'Atlanta'\n",
    "                  }\n",
    "print(state_capitals['Georgia']) #accessing method"
   ]
  },
  {
   "cell_type": "code",
   "execution_count": 6,
   "metadata": {},
   "outputs": [
    {
     "name": "stdout",
     "output_type": "stream",
     "text": [
      "{'Arkansas': 'Little Rock', 'Colorado': 'Denver', 'California': 'Sacramento', 'Georgia': 'Atlanta', 'Virginia': 'Richmond'}\n"
     ]
    }
   ],
   "source": [
    "state_capitals = {'Arkansas':'Little Rock',\n",
    "                  'Colorado': 'Denver',\n",
    "                  'California': 'Sacramento',\n",
    "                  'Georgia': 'Atlanta'\n",
    "                  }\n",
    "state_capitals ['Virginia'] = 'Richmond' # adding a new item\n",
    "print(state_capitals)"
   ]
  },
  {
   "attachments": {},
   "cell_type": "markdown",
   "metadata": {},
   "source": [
    "* Keys and values can be of different types.\n"
   ]
  },
  {
   "cell_type": "code",
   "execution_count": 7,
   "metadata": {},
   "outputs": [],
   "source": [
    "mix_values = {'animal' : ('dog', 'cat'),  # tuple type\n",
    "              'planet':['Neptun', 'Saturn', 'Jupiter'], #list type\n",
    "              'number':40, # int type\n",
    "              'pi': 3.14, # float type\n",
    "              'is_good': True, # boolean type\n",
    "              }\n",
    "mix_keys = {22 : \"integer\",\n",
    "            1.2 : \"float\",\n",
    "            True : \"boolean\",\n",
    "            \"key\" : \"string\"}"
   ]
  },
  {
   "attachments": {},
   "cell_type": "markdown",
   "metadata": {},
   "source": [
    "* Let's create a dictionary by using dict()"
   ]
  },
  {
   "cell_type": "code",
   "execution_count": 8,
   "metadata": {},
   "outputs": [
    {
     "name": "stdout",
     "output_type": "stream",
     "text": [
      "{'animal': 'dog', 'planet': 'neptun', 'number': 40, 'pi': 3.14, 'is_good': True}\n"
     ]
    }
   ],
   "source": [
    "dict_by_dict = dict(animal='dog', planet = 'neptun', number=40, pi=3.14, is_good = True)\n",
    "print(dict_by_dict)"
   ]
  },
  {
   "attachments": {},
   "cell_type": "markdown",
   "metadata": {},
   "source": [
    "* Do not use quotes for keys when using the dict() function to create a dictionary.\n",
    "\n",
    "* You cannot use iterables as keys to create a dictionary."
   ]
  },
  {
   "cell_type": "markdown",
   "metadata": {},
   "source": [
    "Main Operations with Dictionaries"
   ]
  },
  {
   "cell_type": "markdown",
   "metadata": {},
   "source": [
    "* There are several methods that allow us to access items, keys, and values. You can access all items using the .items() method, all keys using the .keys() method, and all values using the .values() method:"
   ]
  },
  {
   "cell_type": "code",
   "execution_count": 10,
   "metadata": {},
   "outputs": [
    {
     "name": "stdout",
     "output_type": "stream",
     "text": [
      "dict_items([('animal', 'dog'), ('planet', 'neptun'), ('number', 40), ('pi', 3.14), ('is_good', True)]) \n",
      "\n",
      "dict_keys(['animal', 'planet', 'number', 'pi', 'is_good']) \n",
      "\n",
      "dict_values(['dog', 'neptun', 40, 3.14, True]) \n",
      "\n"
     ]
    }
   ],
   "source": [
    "dict_by_dict = {'animal':'dog',\n",
    "                'planet':'neptun',\n",
    "                'number':40,\n",
    "                'pi':3.14,\n",
    "                'is_good':True}\n",
    "print(dict_by_dict.items(), '\\n')\n",
    "print(dict_by_dict.keys(), '\\n')\n",
    "print(dict_by_dict.values(), '\\n')\n"
   ]
  },
  {
   "cell_type": "markdown",
   "metadata": {},
   "source": [
    "* You have learned that you can add a new item by assigning value to a key that is not in the dictionary. Likewise, you can add new items using the .update() method. "
   ]
  },
  {
   "cell_type": "code",
   "execution_count": 11,
   "metadata": {},
   "outputs": [
    {
     "name": "stdout",
     "output_type": "stream",
     "text": [
      "{'animal': 'dog', 'planet': 'neptun', 'number': 40, 'pi': 3.14, 'is_good': True, 'is_bad': False}\n"
     ]
    }
   ],
   "source": [
    "dict_by_dict = {'animal':'dog',\n",
    "                'planet':'neptun',\n",
    "                'number':40,\n",
    "                'pi':3.14,\n",
    "                'is_good':True}\n",
    "dict_by_dict.update({'is_bad':False})\n",
    "print(dict_by_dict)"
   ]
  },
  {
   "cell_type": "markdown",
   "metadata": {},
   "source": [
    "* You can also remove an item using the del function:"
   ]
  },
  {
   "cell_type": "code",
   "execution_count": 12,
   "metadata": {},
   "outputs": [
    {
     "name": "stdout",
     "output_type": "stream",
     "text": [
      "{'planet': 'neptun', 'number': 40, 'pi': 3.14, 'is_good': True, 'is_bad': False}\n"
     ]
    }
   ],
   "source": [
    "dict_by_dict = {'animal': 'dog',\n",
    "               'planet': 'neptun',\n",
    "               'number': 40,\n",
    "               'pi': 3.14,\n",
    "               'is_good': True,\n",
    "               'is_bad': False}\n",
    "del dict_by_dict['animal']\n",
    "print(dict_by_dict)"
   ]
  },
  {
   "attachments": {},
   "cell_type": "markdown",
   "metadata": {},
   "source": [
    "* Using the in and the not in operator, you can check if the key is in the dictionary.\n",
    "\n",
    "When we use the in operator; if the key is in the dictionary, the result will be True otherwise False.\n",
    "\n",
    "When we use the not in; if the key is not in the dictionary, the result will be True otherwise False."
   ]
  },
  {
   "cell_type": "code",
   "execution_count": 13,
   "metadata": {},
   "outputs": [
    {
     "name": "stdout",
     "output_type": "stream",
     "text": [
      "True\n",
      "True\n"
     ]
    }
   ],
   "source": [
    "dict_by_dict = {'planet': 'neptun',\n",
    "               'number': 40,\n",
    "               'pi': 3.14,\n",
    "               'is_good': True,\n",
    "               'is_bad': False}\n",
    "print('pi' in dict_by_dict)\n",
    "print('animal' not in dict_by_dict) # remember , we have deleted 'animal'"
   ]
  },
  {
   "attachments": {},
   "cell_type": "markdown",
   "metadata": {},
   "source": [
    "Nested Dictionaries"
   ]
  },
  {
   "cell_type": "code",
   "execution_count": 14,
   "metadata": {},
   "outputs": [],
   "source": [
    "school_records={\n",
    "    \"personal_info\":\n",
    "    {\"kid\":{\"tom\":{\"class\":\"intermediate\",\"age\": 10},\n",
    "            \"sue\": {\"class\": \"elementary\",\"age\": 8}},\n",
    "    \"teen\":{\"joseph\":{\"class\":\"college\",\"age\":19},\n",
    "            \"marry\":{\"class\":\"high school\",\"age\":16}},},\n",
    "            \"greades_info\":\n",
    "            {\"kid\":{\"tom\":{\"math\":88, \"speech\":69},\n",
    "                    \"sue\":{\"math\":90, \"speech\":81}},\n",
    "                    \"teen\":{\"joseph\":{\"coding\":80, \"math\":89},\n",
    "                            \"marry\":{\"coding\":70, \"math\":96}},},\n",
    "}"
   ]
  },
  {
   "attachments": {},
   "cell_type": "markdown",
   "metadata": {},
   "source": [
    "* We can use square brackets to access internal dicts :"
   ]
  },
  {
   "cell_type": "code",
   "execution_count": 15,
   "metadata": {},
   "outputs": [
    {
     "name": "stdout",
     "output_type": "stream",
     "text": [
      "16\n"
     ]
    }
   ],
   "source": [
    "school_records={\n",
    "    \"personal_info\":\n",
    "        {\"kid\":{\"tom\": {\"class\":\"intermediate\", \"age\":10},\n",
    "                \"sue\": {\"class\":\"elementary\", \"age\":8}\n",
    "               },\n",
    "         \"teen\":{\"joseph\":{\"class\":\"college\", \"age\":19},\n",
    "                 \"marry\":{\"class\":\"high school\", \"age\":16}\n",
    "               },               \n",
    "        },\n",
    "}\n",
    "print(school_records['personal_info']['teen']['marry']['age'])\n"
   ]
  },
  {
   "attachments": {},
   "cell_type": "markdown",
   "metadata": {},
   "source": [
    "* Dictionaries strongly resemble JSON syntax. The native json module in the Python standard library can be used to convert between JSON and dictionaries."
   ]
  },
  {
   "attachments": {},
   "cell_type": "markdown",
   "metadata": {},
   "source": [
    "If you want to go deep into dicts, https://l24.im/wvJ you will find what you want.\n"
   ]
  }
 ],
 "metadata": {
  "kernelspec": {
   "display_name": "Python 3",
   "language": "python",
   "name": "python3"
  },
  "language_info": {
   "codemirror_mode": {
    "name": "ipython",
    "version": 3
   },
   "file_extension": ".py",
   "mimetype": "text/x-python",
   "name": "python",
   "nbconvert_exporter": "python",
   "pygments_lexer": "ipython3",
   "version": "3.11.2"
  },
  "orig_nbformat": 4
 },
 "nbformat": 4,
 "nbformat_minor": 2
}
